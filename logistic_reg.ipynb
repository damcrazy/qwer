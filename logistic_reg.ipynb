{
  "nbformat": 4,
  "nbformat_minor": 0,
  "metadata": {
    "colab": {
      "provenance": []
    },
    "kernelspec": {
      "name": "python3",
      "display_name": "Python 3"
    },
    "language_info": {
      "name": "python"
    }
  },
  "cells": [
    {
      "cell_type": "code",
      "execution_count": 1,
      "metadata": {
        "id": "eGKwKyREVI5b"
      },
      "outputs": [],
      "source": [
        "from sklearn.linear_model import LogisticRegression \n",
        "\n",
        "from sklearn.model_selection import train_test_split \n",
        "\n",
        "from sklearn import metrics \n",
        "\n",
        "import pandas as pd \n",
        "\n",
        "import numpy as np "
      ]
    },
    {
      "cell_type": "code",
      "source": [
        "df = pd.read_csv(\"/Student-University.csv\") \n"
      ],
      "metadata": {
        "id": "-f_hUyZkVkc-"
      },
      "execution_count": 7,
      "outputs": []
    },
    {
      "cell_type": "code",
      "source": [
        "X = df.drop(columns=['y'])\n",
        "y = df['y']"
      ],
      "metadata": {
        "id": "mmbxV4NzVy9Q"
      },
      "execution_count": 8,
      "outputs": []
    },
    {
      "cell_type": "code",
      "source": [
        "X_train,X_test,y_train,y_test=train_test_split(X,y,test_size=0.25,random_state=0) \n"
      ],
      "metadata": {
        "id": "fjiEJmZMXc11"
      },
      "execution_count": 9,
      "outputs": []
    },
    {
      "cell_type": "code",
      "source": [
        "logreg =  LogisticRegression() "
      ],
      "metadata": {
        "id": "28AMao9-XgXF"
      },
      "execution_count": 14,
      "outputs": []
    },
    {
      "cell_type": "code",
      "source": [
        "logreg.fit(X_train,y_train) "
      ],
      "metadata": {
        "colab": {
          "base_uri": "https://localhost:8080/"
        },
        "id": "-sMea1mHXkcf",
        "outputId": "e8fb3d4b-57e4-4194-f059-1ea0b67850d8"
      },
      "execution_count": 15,
      "outputs": [
        {
          "output_type": "execute_result",
          "data": {
            "text/plain": [
              "LogisticRegression()"
            ]
          },
          "metadata": {},
          "execution_count": 15
        }
      ]
    },
    {
      "cell_type": "code",
      "source": [
        "y_pred=logreg.predict(X_test) \n"
      ],
      "metadata": {
        "id": "t3rAHI--Xnxo"
      },
      "execution_count": 16,
      "outputs": []
    },
    {
      "cell_type": "code",
      "source": [
        "print(\"Accuracy:\",metrics.accuracy_score(y_test, y_pred)) \n"
      ],
      "metadata": {
        "colab": {
          "base_uri": "https://localhost:8080/"
        },
        "id": "7bEAXwseXstW",
        "outputId": "410016ce-c5bb-479b-cca7-aecbbde6d52f"
      },
      "execution_count": 17,
      "outputs": [
        {
          "output_type": "stream",
          "name": "stdout",
          "text": [
            "Accuracy: 0.84\n"
          ]
        }
      ]
    },
    {
      "cell_type": "code",
      "source": [],
      "metadata": {
        "id": "CKGbBGoPZOT3"
      },
      "execution_count": null,
      "outputs": []
    }
  ]
}