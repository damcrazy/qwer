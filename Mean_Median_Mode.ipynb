{
 "cells": [
  {
   "cell_type": "code",
   "execution_count": 12,
   "metadata": {},
   "outputs": [],
   "source": [
    "import math"
   ]
  },
  {
   "cell_type": "code",
   "execution_count": 4,
   "metadata": {},
   "outputs": [
    {
     "name": "stdout",
     "output_type": "stream",
     "text": [
      "Mean --  121.24000000000001\n"
     ]
    }
   ],
   "source": [
    "arr = [115.3,195.5,120.5,110.2,90.4,105.6,110.9,116.3,122.3,125.4]\n",
    "_sum = sum(arr)\n",
    "mean = _sum/10\n",
    "print(\"Mean -- \",mean)"
   ]
  },
  {
   "cell_type": "code",
   "execution_count": 5,
   "metadata": {},
   "outputs": [
    {
     "name": "stdout",
     "output_type": "stream",
     "text": [
      "Median --  118.4\n"
     ]
    }
   ],
   "source": [
    "arr.sort()\n",
    "med = len(arr)//2\n",
    "median = (arr[med]+arr[med+1])/2\n",
    "print(\"Median -- \",median)"
   ]
  },
  {
   "cell_type": "code",
   "execution_count": 11,
   "metadata": {},
   "outputs": [
    {
     "name": "stdout",
     "output_type": "stream",
     "text": [
      "No mode\n",
      "Variance --  7017.724\n"
     ]
    }
   ],
   "source": [
    "count = 1\n",
    "m=0\n",
    "diff=0.0\n",
    "var=0.0\n",
    "mod=0.0\n",
    "for i in range(0,10):\n",
    "    for j in range(i+1,10):\n",
    "        if arr[i]==arr[j]:\n",
    "            count=count+1\n",
    "    if count>m:\n",
    "        m=count\n",
    "        mod=arr[i]\n",
    "if m==1:\n",
    "    print(\"No mode\")\n",
    "else:\n",
    "    print(\"Mode -- \",mod)\n",
    "        \n",
    "for i in arr:\n",
    "    diff=i-mean\n",
    "    var=var+(diff**2)\n",
    "print(\"Variance -- \",var)"
   ]
  },
  {
   "cell_type": "code",
   "execution_count": 7,
   "metadata": {},
   "outputs": [
    {
     "name": "stdout",
     "output_type": "stream",
     "text": [
      "Standard Deviation --  83.7718568494217\n",
      "Min Max normalization\n",
      "0.0\n",
      "0.14462416745956222\n",
      "0.18839200761179828\n",
      "0.1950523311132255\n",
      "0.23691722169362506\n",
      "0.24643196955280677\n",
      "0.2863939105613701\n",
      "0.3035204567078972\n",
      "0.3330161750713606\n",
      "1.0\n",
      "Standardization\n",
      "-0.3681427290722982\n",
      "-0.1866975448343304\n",
      "-0.1317865022359979\n",
      "-0.12343047401451247\n",
      "-0.07090686805089026\n",
      "-0.05896968487733974\n",
      "-0.008833515548427498\n",
      "0.012653414163963414\n",
      "0.04965868200197015\n",
      "0.8864552224678619\n"
     ]
    }
   ],
   "source": [
    "sd=math.sqrt(var)\n",
    "print(\"Standard Deviation -- \",sd)\n",
    "diff = arr[9]-arr[0]\n",
    "print(\"Min Max normalization\")\n",
    "for i in arr:\n",
    "    y = (i-arr[0])/diff\n",
    "    print(y)\n",
    "print(\"Standardization\")    \n",
    "for i in arr:\n",
    "    stn = (i-mean)/sd\n",
    "    print(stn)"
   ]
  }
 ],
 "metadata": {
  "kernelspec": {
   "display_name": "Python 3",
   "language": "python",
   "name": "python3"
  },
  "language_info": {
   "codemirror_mode": {
    "name": "ipython",
    "version": 3
   },
   "file_extension": ".py",
   "mimetype": "text/x-python",
   "name": "python",
   "nbconvert_exporter": "python",
   "pygments_lexer": "ipython3",
   "version": "3.7.4"
  }
 },
 "nbformat": 4,
 "nbformat_minor": 4
}
